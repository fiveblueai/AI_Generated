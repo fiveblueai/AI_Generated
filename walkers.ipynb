{
 "cells": [
  {
   "cell_type": "markdown",
   "id": "b6a93de6-876d-4c66-9956-9e07a78d6e35",
   "metadata": {},
   "source": [
    "# Random Walkers"
   ]
  },
  {
   "cell_type": "code",
   "execution_count": null,
   "id": "577bb342-3d77-4349-b560-f594dc468dad",
   "metadata": {},
   "outputs": [],
   "source": [
    "using Plots\n",
    "\n",
    "# Define a mutable struct to represent a walker\n",
    "mutable struct Walker\n",
    "    id::Int\n",
    "    position::Tuple{Int, Int}\n",
    "end\n",
    "\n",
    "# Function to take a step in a random direction\n",
    "function take_step(pos)\n",
    "    directions = [(1, 0), (-1, 0), (0, 1), (0, -1), (1, 1), (-1, -1), (1, -1), (-1, 1)]\n",
    "    direction = directions[rand(1:length(directions))]\n",
    "    new_pos = (pos[1] + direction[1], pos[2] + direction[2])\n",
    "    return new_pos\n",
    "end\n",
    "\n",
    "function random_walkers_animation()\n",
    "    # Create a 101x101 matrix to represent positions\n",
    "    matrix = zeros(Int, 101, 101)\n",
    "\n",
    "    # Place 1000 random walkers at the center\n",
    "    num_walkers = 1000\n",
    "    walkers = [Walker(i, (51, 51)) for i in 1:num_walkers]\n",
    "\n",
    "    anim = @animate for _ in 1:1000\n",
    "        # Reset matrix to zeros at each frame\n",
    "        matrix .= 0\n",
    "        \n",
    "        # Update walker positions\n",
    "        for walker in walkers\n",
    "            walker.position = take_step(walker.position)\n",
    "            # Ensure walkers stay within matrix bounds\n",
    "            walker.position = (clamp(walker.position[1], 1, 101), clamp(walker.position[2], 1, 101))\n",
    "            # Update matrix at walker position\n",
    "            matrix[walker.position...] += 1\n",
    "        end\n",
    "\n",
    "        # Plot matrix with walkers\n",
    "        heatmap(matrix, c=:blues, \n",
    "            aspect_ratio=:equal, \n",
    "            xlims=(1,101), ylims=(1,101), \n",
    "            color=:darkgrey, showaxis=false, \n",
    "            legend=false, grid=false, ticks=false)\n",
    "    end\n",
    "\n",
    "    gif(anim, \"random_walkers.gif\", fps = 10)\n",
    "end\n",
    "\n",
    "random_walkers_animation()"
   ]
  },
  {
   "cell_type": "markdown",
   "id": "54b8b1cb-8956-4610-90a9-3e53546a0e41",
   "metadata": {},
   "source": [
    "### 💯\n",
    "\n",
    "1. **Define a Mutable Struct (Walker)**:\n",
    "    - The `Walker` struct represents each individual walker in the simulation.\n",
    "    - It consists of two fields: `id` to uniquely identify each walker, and `position` to store the current position of the walker.\n",
    "\n",
    "2. **Define the `take_step` Function**:\n",
    "    - This function takes the current position of a walker as input and randomly selects a direction to move the walker.\n",
    "    - The possible directions include up, down, left, right, and diagonally.\n",
    "\n",
    "3. **Define the `random_walkers_animation` Function**:\n",
    "    - This function is responsible for creating the animation of the random walkers.\n",
    "    - It initializes a 101x101 matrix (`matrix`) to represent the positions of the walkers.\n",
    "    - It creates a list of `walkers` containing 1000 instances of the `Walker` struct, initially all positioned at the center of the matrix.\n",
    "    - It creates an animation (`anim`) consisting of 100 frames, each representing one step of the random walkers.\n",
    "\n",
    "4. **Animate Each Frame**:\n",
    "    - Inside the animation loop, the `matrix` is reset to zeros at the beginning of each frame to clear the previous positions of the walkers.\n",
    "    - For each walker in the `walkers` list, their position is updated using the `take_step` function, ensuring they stay within the bounds of the matrix.\n",
    "    - The position of each walker is then incremented in the `matrix` to represent their new location.\n",
    "    - The `heatmap` function is used to visualize the `matrix` as a heatmap, with walkers represented by higher values in the matrix.\n",
    "\n",
    "5. **Plot Settings**:\n",
    "    - The `heatmap` function is called with various settings to customize the plot:\n",
    "        - `c=:blues` specifies the color scheme for the heatmap.\n",
    "        - `aspect_ratio=:equal` ensures the aspect ratio of the plot is preserved.\n",
    "        - `xlims=(1,101)` and `ylims=(1,101)` set the limits of the x and y axes to match the dimensions of the `matrix`.\n",
    "        - `color=:darkgrey` sets the color of the background.\n",
    "        - `showaxis=false`, `legend=false`, `grid=false`, and `ticks=false` remove unnecessary elements like axes, legends, gridlines, and ticks from the plot.\n",
    "\n",
    "6. **Create GIF Animation**:\n",
    "    - The `gif` function is used to create an animated GIF (`random_walkers.gif`) from the `anim` object with a frame rate of 10 frames per second.\n",
    "\n",
    "Overall, the program simulates the random movement of walkers on a grid and visualizes their positions using an animated heatmap."
   ]
  },
  {
   "cell_type": "markdown",
   "id": "4fc6b165-2822-4541-93b6-26501fae25c6",
   "metadata": {},
   "source": [
    "The `clamp()` function restricts a value to be within a specified range. It takes three arguments: the value to be clamped, the lower bound of the range, and the upper bound of the range. If the value is within the specified range, it is returned unchanged. If the value is below the lower bound, the lower bound is returned. If the value is above the upper bound, the upper bound is returned.\n",
    "\n",
    "In the context of the random walkers simulation, the `clamp()` function is used to ensure that the walkers stay within the bounds of the matrix. This prevents the walkers from moving outside the grid and helps maintain the integrity of the simulation."
   ]
  },
  {
   "cell_type": "code",
   "execution_count": null,
   "id": "f02589e1-1094-47c9-a35d-c00385da049c",
   "metadata": {},
   "outputs": [],
   "source": []
  }
 ],
 "metadata": {
  "kernelspec": {
   "display_name": "Julia 1.10.0",
   "language": "julia",
   "name": "julia-1.10"
  },
  "language_info": {
   "file_extension": ".jl",
   "mimetype": "application/julia",
   "name": "julia",
   "version": "1.10.0"
  }
 },
 "nbformat": 4,
 "nbformat_minor": 5
}
